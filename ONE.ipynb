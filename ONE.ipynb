{
 "cells": [
  {
   "cell_type": "markdown",
   "id": "2f16a6a1-1822-4328-95e4-f1e5224a89c3",
   "metadata": {},
   "source": [
    "# OK"
   ]
  },
  {
   "cell_type": "code",
   "execution_count": 3,
   "id": "a435c8ec-d8f0-4065-8dcc-687ec2302085",
   "metadata": {},
   "outputs": [
    {
     "data": {
      "text/plain": [
       "'C:\\\\Users\\\\prabh\\\\PYTHON with ANACONDA'"
      ]
     },
     "execution_count": 3,
     "metadata": {},
     "output_type": "execute_result"
    }
   ],
   "source": [
    "pwd #Present Working Directory"
   ]
  },
  {
   "cell_type": "code",
   "execution_count": 8,
   "id": "f9282dad-b7a6-4b14-9c19-8e0c51c23c35",
   "metadata": {},
   "outputs": [
    {
     "name": "stdout",
     "output_type": "stream",
     "text": [
      "Hello World\n"
     ]
    }
   ],
   "source": [
    "print(\"Hello World\")"
   ]
  },
  {
   "cell_type": "code",
   "execution_count": null,
   "id": "b2fe52cd-b696-4b03-aafb-bdd86ccda26f",
   "metadata": {},
   "outputs": [],
   "source": []
  },
  {
   "cell_type": "code",
   "execution_count": 9,
   "id": "931508d8-4cc4-4eac-b79b-40911c1296e4",
   "metadata": {},
   "outputs": [
    {
     "name": "stdout",
     "output_type": "stream",
     "text": [
      "6\n"
     ]
    }
   ],
   "source": [
    "print(6)"
   ]
  },
  {
   "cell_type": "markdown",
   "id": "34c8050d-458e-47bd-8938-61e921f8c4fe",
   "metadata": {},
   "source": [
    "PRABHAS"
   ]
  },
  {
   "cell_type": "markdown",
   "id": "b4789275-b07c-4ee2-96c2-484eda835216",
   "metadata": {},
   "source": [
    "### PRABHAS JENA"
   ]
  },
  {
   "cell_type": "code",
   "execution_count": 5,
   "id": "4b70f5d5-1293-4eeb-a81c-ad30bb0ff35e",
   "metadata": {},
   "outputs": [
    {
     "data": {
      "text/plain": [
       "'This is the second class of the Python internship batch and we are studying about Variables and Identifiers'"
      ]
     },
     "execution_count": 5,
     "metadata": {},
     "output_type": "execute_result"
    }
   ],
   "source": [
    "AN = 1 #This is a variable declaration  \n",
    "b = 5\n",
    "AN +b   #doing summation of two variables\n",
    "\"\"\"This is the second class of the Python internship batch and we are studying about Variables and Identifiers\"\"\"\n"
   ]
  },
  {
   "cell_type": "code",
   "execution_count": 4,
   "id": "1b8095ed-48ea-495c-a577-d4a6be4efdc3",
   "metadata": {},
   "outputs": [
    {
     "data": {
      "text/plain": [
       "6"
      ]
     },
     "execution_count": 4,
     "metadata": {},
     "output_type": "execute_result"
    }
   ],
   "source": [
    "\"\"\"This is the second class of the Python internship batch and we are studying about Variables and Identifiers\"\"\"\n",
    "AN = 1 #This is a variable declaration  \n",
    "b = 5\n",
    "AN +b   #doing summation of two variables"
   ]
  },
  {
   "cell_type": "code",
   "execution_count": 42,
   "id": "7b714258-7556-4312-8a52-092d51ecf803",
   "metadata": {},
   "outputs": [
    {
     "data": {
      "text/plain": [
       "140724098155592"
      ]
     },
     "execution_count": 42,
     "metadata": {},
     "output_type": "execute_result"
    }
   ],
   "source": [
    "A = 10\n",
    "id(A)"
   ]
  },
  {
   "cell_type": "code",
   "execution_count": 7,
   "id": "901c3452-6bf1-42b8-a58c-c492fc487823",
   "metadata": {},
   "outputs": [
    {
     "data": {
      "text/plain": [
       "140724098155592"
      ]
     },
     "execution_count": 7,
     "metadata": {},
     "output_type": "execute_result"
    }
   ],
   "source": [
    "B = 10\n",
    "id(B)"
   ]
  },
  {
   "cell_type": "code",
   "execution_count": 9,
   "id": "77b4331c-0780-4e08-974b-77de9687c4f5",
   "metadata": {},
   "outputs": [
    {
     "data": {
      "text/plain": [
       "140724098155592"
      ]
     },
     "execution_count": 9,
     "metadata": {},
     "output_type": "execute_result"
    }
   ],
   "source": [
    "C = 10\n",
    "id(C)"
   ]
  },
  {
   "cell_type": "code",
   "execution_count": 10,
   "id": "ebd55858-6b28-48f5-9730-a16fc6cea105",
   "metadata": {},
   "outputs": [
    {
     "data": {
      "text/plain": [
       "20"
      ]
     },
     "execution_count": 10,
     "metadata": {},
     "output_type": "execute_result"
    }
   ],
   "source": [
    "Z = 10\n",
    "Z + C"
   ]
  },
  {
   "cell_type": "code",
   "execution_count": 11,
   "id": "ee56ba24-f9a1-4078-83a0-486ea0189cb3",
   "metadata": {},
   "outputs": [
    {
     "data": {
      "text/plain": [
       "25"
      ]
     },
     "execution_count": 11,
     "metadata": {},
     "output_type": "execute_result"
    }
   ],
   "source": [
    "Z = 10\n",
    "C = 15\n",
    "Z+C"
   ]
  },
  {
   "cell_type": "code",
   "execution_count": 36,
   "id": "3bd0dd7c-aeae-4f36-8c16-c1ecbf905850",
   "metadata": {},
   "outputs": [
    {
     "name": "stdout",
     "output_type": "stream",
     "text": [
      "The summation is-  40\n"
     ]
    }
   ],
   "source": [
    "# Multiple assignments(If we are working on more than 2 variables)\n",
    "Z = 15\n",
    "C = 25\n",
    "U = Z+C\n",
    "U\n",
    "V = print(\"The summation is- \",Z+C)\n",
    "V"
   ]
  },
  {
   "cell_type": "code",
   "execution_count": 13,
   "id": "2094ffc6-7457-4945-b503-b4d1b2f89f3d",
   "metadata": {},
   "outputs": [
    {
     "name": "stdout",
     "output_type": "stream",
     "text": [
      "The summation is-  40\n"
     ]
    },
    {
     "data": {
      "text/plain": [
       "40"
      ]
     },
     "execution_count": 13,
     "metadata": {},
     "output_type": "execute_result"
    }
   ],
   "source": [
    "Z = 15\n",
    "C = 25\n",
    "U = Z+C\n",
    "print(\"The summation is- \",Z+C)\n",
    "U"
   ]
  },
  {
   "cell_type": "code",
   "execution_count": 14,
   "id": "1d7a66b7-2444-4b15-a000-cfaf534fc539",
   "metadata": {},
   "outputs": [
    {
     "name": "stdout",
     "output_type": "stream",
     "text": [
      "The summation is-  40\n"
     ]
    },
    {
     "data": {
      "text/plain": [
       "2345"
      ]
     },
     "execution_count": 14,
     "metadata": {},
     "output_type": "execute_result"
    }
   ],
   "source": [
    "Z = 15\n",
    "C = 25\n",
    "V = 2345\n",
    "U = Z+C\n",
    "U\n",
    "print(\"The summation is- \",Z+C)\n",
    "V"
   ]
  },
  {
   "cell_type": "code",
   "execution_count": 15,
   "id": "ddbc8105-ea94-4d0f-a2e1-1d90bdc0839e",
   "metadata": {},
   "outputs": [
    {
     "data": {
      "text/plain": [
       "2345"
      ]
     },
     "execution_count": 15,
     "metadata": {},
     "output_type": "execute_result"
    }
   ],
   "source": [
    "Z = 15\n",
    "C = 25\n",
    "V = 2345\n",
    "U = Z+C\n",
    "U\n",
    "V"
   ]
  },
  {
   "cell_type": "code",
   "execution_count": 16,
   "id": "9627c69b-e6d0-4811-9732-d4e135a7853d",
   "metadata": {},
   "outputs": [
    {
     "ename": "SyntaxError",
     "evalue": "invalid decimal literal (3775778381.py, line 1)",
     "output_type": "error",
     "traceback": [
      "\u001b[1;36m  Cell \u001b[1;32mIn[16], line 1\u001b[1;36m\u001b[0m\n\u001b[1;33m    1A = 123\u001b[0m\n\u001b[1;37m    ^\u001b[0m\n\u001b[1;31mSyntaxError\u001b[0m\u001b[1;31m:\u001b[0m invalid decimal literal\n"
     ]
    }
   ],
   "source": [
    "1A = 123\n",
    "1A"
   ]
  },
  {
   "cell_type": "code",
   "execution_count": 17,
   "id": "1b320772-6f98-4d0f-806f-e23aba7c8762",
   "metadata": {},
   "outputs": [
    {
     "data": {
      "text/plain": [
       "123"
      ]
     },
     "execution_count": 17,
     "metadata": {},
     "output_type": "execute_result"
    }
   ],
   "source": [
    "_1A=123\n",
    "_1A"
   ]
  },
  {
   "cell_type": "code",
   "execution_count": 18,
   "id": "5f480ef8-9ff2-4402-b2a3-846c65d5d9f8",
   "metadata": {},
   "outputs": [
    {
     "data": {
      "text/plain": [
       "int"
      ]
     },
     "execution_count": 18,
     "metadata": {},
     "output_type": "execute_result"
    }
   ],
   "source": [
    "type(_1A)"
   ]
  },
  {
   "cell_type": "code",
   "execution_count": 24,
   "id": "ca86891d-af41-4342-993f-5f1808491af6",
   "metadata": {},
   "outputs": [
    {
     "data": {
      "text/plain": [
       "int"
      ]
     },
     "execution_count": 24,
     "metadata": {},
     "output_type": "execute_result"
    }
   ],
   "source": [
    "w=type(_1A)\n",
    "w"
   ]
  },
  {
   "cell_type": "code",
   "execution_count": 26,
   "id": "489cf117-5333-4e7a-bd9c-5df71666c9b9",
   "metadata": {},
   "outputs": [
    {
     "name": "stdout",
     "output_type": "stream",
     "text": [
      "<class 'int'>\n"
     ]
    }
   ],
   "source": [
    "print(w)"
   ]
  },
  {
   "cell_type": "code",
   "execution_count": 27,
   "id": "0a8f67f8-6987-4cbe-8a99-ee5248420c96",
   "metadata": {},
   "outputs": [
    {
     "name": "stdout",
     "output_type": "stream",
     "text": [
      "['False', 'None', 'True', 'and', 'as', 'assert', 'async', 'await', 'break', 'class', 'continue', 'def', 'del', 'elif', 'else', 'except', 'finally', 'for', 'from', 'global', 'if', 'import', 'in', 'is', 'lambda', 'nonlocal', 'not', 'or', 'pass', 'raise', 'return', 'try', 'while', 'with', 'yield']\n"
     ]
    }
   ],
   "source": [
    "import keyword\n",
    "keywords = keyword.kwlist\n",
    "print(keywords)"
   ]
  },
  {
   "cell_type": "code",
   "execution_count": 28,
   "id": "98ac7763-8269-4699-b395-378e6b6a2471",
   "metadata": {},
   "outputs": [
    {
     "data": {
      "text/plain": [
       "35"
      ]
     },
     "execution_count": 28,
     "metadata": {},
     "output_type": "execute_result"
    }
   ],
   "source": [
    "len(keywords)"
   ]
  },
  {
   "cell_type": "code",
   "execution_count": 29,
   "id": "077510b5-dc8c-4f0b-af47-98a20432a4c7",
   "metadata": {},
   "outputs": [
    {
     "name": "stdin",
     "output_type": "stream",
     "text": [
      "Enter your company name -  TCS\n"
     ]
    },
    {
     "name": "stdout",
     "output_type": "stream",
     "text": [
      "My organization name is- TCS\n"
     ]
    }
   ],
   "source": [
    "b=input(\"Enter your company name - \")\n",
    "print(\"My organization name is-\", b)"
   ]
  },
  {
   "cell_type": "code",
   "execution_count": 30,
   "id": "7f89df22-4c91-466f-bedb-3b34accd09f9",
   "metadata": {},
   "outputs": [
    {
     "name": "stdout",
     "output_type": "stream",
     "text": [
      "TCS is my organization name\n"
     ]
    }
   ],
   "source": [
    "print(b,\"is my organization name\")"
   ]
  },
  {
   "cell_type": "code",
   "execution_count": 31,
   "id": "05a96d27-5892-4869-b795-f5161a96cdec",
   "metadata": {},
   "outputs": [
    {
     "name": "stdout",
     "output_type": "stream",
     "text": [
      "I am from TCS Where are you from?\n"
     ]
    }
   ],
   "source": [
    "print(\"I am from\",b,\"Where are you from?\")"
   ]
  },
  {
   "cell_type": "code",
   "execution_count": 32,
   "id": "534a4a5f-7dcf-4b23-9334-969ade5522cf",
   "metadata": {},
   "outputs": [
    {
     "name": "stdin",
     "output_type": "stream",
     "text": [
      "Enter your company name -  WIPRO\n",
      "My employee ID is- 12341\n"
     ]
    }
   ],
   "source": [
    "b=input(\"Enter your company name - \")\n",
    "c=input(\"My employee ID is-\")"
   ]
  },
  {
   "cell_type": "code",
   "execution_count": 33,
   "id": "dc440812-e85a-4899-b3fd-796becdde3a9",
   "metadata": {},
   "outputs": [
    {
     "name": "stdout",
     "output_type": "stream",
     "text": [
      "I am from WIPRO and my employee ID is 12341\n"
     ]
    }
   ],
   "source": [
    "print(\"I am from\",b,\"and my employee ID is\",c)"
   ]
  },
  {
   "cell_type": "code",
   "execution_count": 45,
   "id": "e8d3827a-bb57-4bb1-9dc1-3c6c7653d88f",
   "metadata": {},
   "outputs": [
    {
     "name": "stdout",
     "output_type": "stream",
     "text": [
      "I am from WIPRO and my employee ID is 12341\n"
     ]
    }
   ],
   "source": [
    "#using the .format\n",
    "print(\"I am from {} and my employee ID is {}\".format(b,c))"
   ]
  },
  {
   "cell_type": "code",
   "execution_count": 35,
   "id": "3771eac9-b301-4a81-a433-b0ede3a9bec4",
   "metadata": {},
   "outputs": [
    {
     "name": "stdout",
     "output_type": "stream",
     "text": [
      "I am from 12341 and my employee ID is WIPRO\n"
     ]
    }
   ],
   "source": [
    "print(\"I am from {} and my employee ID is {}\".format(c,b))"
   ]
  },
  {
   "cell_type": "code",
   "execution_count": 37,
   "id": "a2fb0036-d92f-4ddb-8345-6c11e13c7214",
   "metadata": {},
   "outputs": [
    {
     "data": {
      "text/plain": [
       "10"
      ]
     },
     "execution_count": 37,
     "metadata": {},
     "output_type": "execute_result"
    }
   ],
   "source": [
    "A"
   ]
  },
  {
   "cell_type": "code",
   "execution_count": 43,
   "id": "32cc30d6-0da5-48d9-8737-f3bff6a847f2",
   "metadata": {},
   "outputs": [],
   "source": [
    "#delete a variable\n",
    "del(A)"
   ]
  },
  {
   "cell_type": "code",
   "execution_count": 44,
   "id": "f0dc5f1c-59c6-4286-9e4a-ccf796d9fdc7",
   "metadata": {},
   "outputs": [
    {
     "ename": "NameError",
     "evalue": "name 'A' is not defined",
     "output_type": "error",
     "traceback": [
      "\u001b[1;31m---------------------------------------------------------------------------\u001b[0m",
      "\u001b[1;31mNameError\u001b[0m                                 Traceback (most recent call last)",
      "Cell \u001b[1;32mIn[44], line 1\u001b[0m\n\u001b[1;32m----> 1\u001b[0m A\n",
      "\u001b[1;31mNameError\u001b[0m: name 'A' is not defined"
     ]
    }
   ],
   "source": [
    "A"
   ]
  },
  {
   "cell_type": "code",
   "execution_count": null,
   "id": "1e33acd7-416f-45ed-b02e-6eabbc9542a2",
   "metadata": {},
   "outputs": [],
   "source": []
  }
 ],
 "metadata": {
  "kernelspec": {
   "display_name": "Python 3 (ipykernel)",
   "language": "python",
   "name": "python3"
  },
  "language_info": {
   "codemirror_mode": {
    "name": "ipython",
    "version": 3
   },
   "file_extension": ".py",
   "mimetype": "text/x-python",
   "name": "python",
   "nbconvert_exporter": "python",
   "pygments_lexer": "ipython3",
   "version": "3.11.7"
  }
 },
 "nbformat": 4,
 "nbformat_minor": 5
}
