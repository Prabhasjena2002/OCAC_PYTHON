{
 "cells": [
  {
   "cell_type": "markdown",
   "id": "780e2825-3c74-412d-a96e-0de05cd43fc5",
   "metadata": {},
   "source": [
    "# Operators"
   ]
  },
  {
   "cell_type": "markdown",
   "id": "e8aa44a0-9eee-45fc-b3ac-6d775ae3252d",
   "metadata": {},
   "source": [
    "## Operator Types"
   ]
  },
  {
   "cell_type": "markdown",
   "id": "3614fa45-9ce6-43a3-af0c-6940b8301b44",
   "metadata": {},
   "source": [
    "1.Arithmetic Operator\n"
   ]
  },
  {
   "cell_type": "markdown",
   "id": "e0d9e925-b813-4ad2-a35a-b85b7f2c1703",
   "metadata": {},
   "source": [
    "2.Comparison(Relational) Operator\n"
   ]
  },
  {
   "cell_type": "markdown",
   "id": "4eded9ce-eeb1-47f8-b521-669c483dcf0f",
   "metadata": {},
   "source": [
    "3.Logical(Boolean) Operator"
   ]
  },
  {
   "cell_type": "markdown",
   "id": "4e4836e0-676c-42a5-be7f-a57cb40ad1b6",
   "metadata": {},
   "source": [
    "4.Bitwise Operator"
   ]
  },
  {
   "cell_type": "markdown",
   "id": "a7335066-8ff8-4611-b9c5-dcca501531c0",
   "metadata": {},
   "source": [
    "5.Assignment Operator"
   ]
  },
  {
   "cell_type": "markdown",
   "id": "d5a09cd9-53e7-4c97-8c94-2e8784b76878",
   "metadata": {},
   "source": [
    "6.Special Operator"
   ]
  },
  {
   "cell_type": "markdown",
   "id": "6a2548a4-8465-4f1f-baaa-7e3b62dc0d2a",
   "metadata": {},
   "source": [
    "### Arithmetic Operator"
   ]
  },
  {
   "cell_type": "markdown",
   "id": "576fd253-3aa3-45ee-98fa-696bb9a50d33",
   "metadata": {},
   "source": [
    "+,-,*,/,%,//,**,() are arithmetic operators"
   ]
  },
  {
   "cell_type": "code",
   "execution_count": 2,
   "id": "0adf365c-c05b-439e-a06c-1c3211c55415",
   "metadata": {},
   "outputs": [
    {
     "data": {
      "text/plain": [
       "10"
      ]
     },
     "execution_count": 2,
     "metadata": {},
     "output_type": "execute_result"
    }
   ],
   "source": [
    "# Addition\n",
    "5+5"
   ]
  },
  {
   "cell_type": "code",
   "execution_count": 3,
   "id": "f43d9bb5-3415-4378-9972-e3c8f45a011d",
   "metadata": {},
   "outputs": [
    {
     "data": {
      "text/plain": [
       "0"
      ]
     },
     "execution_count": 3,
     "metadata": {},
     "output_type": "execute_result"
    }
   ],
   "source": [
    "# Subtraction\n",
    "5-5"
   ]
  },
  {
   "cell_type": "code",
   "execution_count": 4,
   "id": "b1a1e761-4452-4e27-8710-6a4e8fe91bac",
   "metadata": {},
   "outputs": [
    {
     "data": {
      "text/plain": [
       "25"
      ]
     },
     "execution_count": 4,
     "metadata": {},
     "output_type": "execute_result"
    }
   ],
   "source": [
    "# Multiplication\n",
    "5*5"
   ]
  },
  {
   "cell_type": "code",
   "execution_count": 5,
   "id": "51a4ec64-1623-433f-9652-6b14097ccf04",
   "metadata": {},
   "outputs": [
    {
     "data": {
      "text/plain": [
       "1.0"
      ]
     },
     "execution_count": 5,
     "metadata": {},
     "output_type": "execute_result"
    }
   ],
   "source": [
    "# Division\n",
    "5/5"
   ]
  },
  {
   "cell_type": "code",
   "execution_count": 8,
   "id": "2c1c3233-db8a-41a6-ae8c-3662891ff924",
   "metadata": {},
   "outputs": [
    {
     "data": {
      "text/plain": [
       "0"
      ]
     },
     "execution_count": 8,
     "metadata": {},
     "output_type": "execute_result"
    }
   ],
   "source": [
    "# Modulo\n",
    "5%5"
   ]
  },
  {
   "cell_type": "code",
   "execution_count": 9,
   "id": "41e6400a-22ef-4fef-94ad-c3bfe65a966e",
   "metadata": {},
   "outputs": [
    {
     "data": {
      "text/plain": [
       "1"
      ]
     },
     "execution_count": 9,
     "metadata": {},
     "output_type": "execute_result"
    }
   ],
   "source": [
    "# Floor Division\n",
    "5//5"
   ]
  },
  {
   "cell_type": "code",
   "execution_count": 7,
   "id": "21135905-0f0f-47bf-b374-01f17b680f78",
   "metadata": {},
   "outputs": [
    {
     "data": {
      "text/plain": [
       "25"
      ]
     },
     "execution_count": 7,
     "metadata": {},
     "output_type": "execute_result"
    }
   ],
   "source": [
    "# power/exponent\n",
    "5**2"
   ]
  },
  {
   "cell_type": "code",
   "execution_count": 10,
   "id": "60cd33c9-c9f7-4769-9999-ffe7067a6400",
   "metadata": {},
   "outputs": [
    {
     "data": {
      "text/plain": [
       "81"
      ]
     },
     "execution_count": 10,
     "metadata": {},
     "output_type": "execute_result"
    }
   ],
   "source": [
    "# paranthesis\n",
    "(4+5)*(5+4)"
   ]
  },
  {
   "cell_type": "code",
   "execution_count": 11,
   "id": "8c0f62cc-27f4-401e-88ee-93a8281cc016",
   "metadata": {},
   "outputs": [
    {
     "data": {
      "text/plain": [
       "30.0"
      ]
     },
     "execution_count": 11,
     "metadata": {},
     "output_type": "execute_result"
    }
   ],
   "source": [
    "## BODMAS Rule(Precedence of Operators)\n",
    "a=20\n",
    "b=10\n",
    "(a/b*a+b-a)"
   ]
  },
  {
   "cell_type": "markdown",
   "id": "0f1ad222-15b7-468a-8a2a-a003032e14c1",
   "metadata": {},
   "source": [
    "### Comparison/Relational Operators"
   ]
  },
  {
   "cell_type": "markdown",
   "id": "e30f9f5b-30f3-4652-b68a-3b50127e9cb5",
   "metadata": {},
   "source": [
    "<,>,==,<=,>=,!= are comparison operators"
   ]
  },
  {
   "cell_type": "code",
   "execution_count": 13,
   "id": "2f9d1796-8ee1-40a6-bdca-665040214c47",
   "metadata": {},
   "outputs": [
    {
     "data": {
      "text/plain": [
       "True"
      ]
     },
     "execution_count": 13,
     "metadata": {},
     "output_type": "execute_result"
    }
   ],
   "source": [
    "# Less than\n",
    "30<40"
   ]
  },
  {
   "cell_type": "code",
   "execution_count": 14,
   "id": "c95952ec-5fbb-459d-9733-6392dae551d6",
   "metadata": {},
   "outputs": [
    {
     "data": {
      "text/plain": [
       "False"
      ]
     },
     "execution_count": 14,
     "metadata": {},
     "output_type": "execute_result"
    }
   ],
   "source": [
    "# Greater than\n",
    "30>40"
   ]
  },
  {
   "cell_type": "code",
   "execution_count": 16,
   "id": "30ca73e2-b7f5-4d9e-b935-6fa0de9d90d9",
   "metadata": {},
   "outputs": [
    {
     "data": {
      "text/plain": [
       "True"
      ]
     },
     "execution_count": 16,
     "metadata": {},
     "output_type": "execute_result"
    }
   ],
   "source": [
    "# Equal\n",
    "100==100"
   ]
  },
  {
   "cell_type": "code",
   "execution_count": 17,
   "id": "ec9d2467-f287-476a-ae69-a5b2386ec4d0",
   "metadata": {},
   "outputs": [
    {
     "data": {
      "text/plain": [
       "True"
      ]
     },
     "execution_count": 17,
     "metadata": {},
     "output_type": "execute_result"
    }
   ],
   "source": [
    "# Lessthan or equal\n",
    "100<=100"
   ]
  },
  {
   "cell_type": "code",
   "execution_count": 19,
   "id": "0df20ffb-b0fc-4230-b35c-a41fb8f0dea9",
   "metadata": {},
   "outputs": [
    {
     "data": {
      "text/plain": [
       "False"
      ]
     },
     "execution_count": 19,
     "metadata": {},
     "output_type": "execute_result"
    }
   ],
   "source": [
    "# Greaterthan or equal\n",
    "99>=100"
   ]
  },
  {
   "cell_type": "code",
   "execution_count": 20,
   "id": "efa00cb6-a817-4c5b-a0d8-cf44c57e58de",
   "metadata": {},
   "outputs": [
    {
     "data": {
      "text/plain": [
       "False"
      ]
     },
     "execution_count": 20,
     "metadata": {},
     "output_type": "execute_result"
    }
   ],
   "source": [
    "# Not equal\n",
    "100!=100"
   ]
  },
  {
   "cell_type": "code",
   "execution_count": 21,
   "id": "1883c07f-256f-45ab-9d28-96d0728ea021",
   "metadata": {},
   "outputs": [
    {
     "data": {
      "text/plain": [
       "False"
      ]
     },
     "execution_count": 21,
     "metadata": {},
     "output_type": "execute_result"
    }
   ],
   "source": [
    "# We can also use strings\n",
    "'PRABHAS'=='prabhas'"
   ]
  },
  {
   "cell_type": "markdown",
   "id": "376fd48b-422e-454a-9df4-d96456e9e70c",
   "metadata": {},
   "source": [
    "### Bitwise Operators"
   ]
  },
  {
   "cell_type": "markdown",
   "id": "b0f46e0f-bb19-45f1-9d4d-534eb9463293",
   "metadata": {},
   "source": [
    "'|(Bitwise or)' and '&(Bitwise and)' are the bitwise operator"
   ]
  },
  {
   "cell_type": "code",
   "execution_count": 22,
   "id": "1fde9892-a956-42f4-83fb-cce72c44f395",
   "metadata": {},
   "outputs": [
    {
     "name": "stdout",
     "output_type": "stream",
     "text": [
      "7\n"
     ]
    }
   ],
   "source": [
    "# Bitwise OR\n",
    "a=6    # 1 1 0\n",
    "b=7    # 1 1 1 \n",
    "\n",
    "print(a|b)    # 3 1 1 1 RESULT"
   ]
  },
  {
   "cell_type": "code",
   "execution_count": 25,
   "id": "6a4c50d4-13fa-4b32-9edc-002ac7deb161",
   "metadata": {},
   "outputs": [
    {
     "name": "stdout",
     "output_type": "stream",
     "text": [
      "6\n"
     ]
    }
   ],
   "source": [
    "# Bitwise AND\n",
    "a=6\n",
    "b=7\n",
    "\n",
    "print(a&b)   # 1 1 0 Result"
   ]
  },
  {
   "cell_type": "code",
   "execution_count": 26,
   "id": "9aad6e43-9541-4aec-a45d-3e78120331bd",
   "metadata": {},
   "outputs": [
    {
     "data": {
      "text/plain": [
       "5"
      ]
     },
     "execution_count": 26,
     "metadata": {},
     "output_type": "execute_result"
    }
   ],
   "source": [
    "4|5"
   ]
  },
  {
   "cell_type": "code",
   "execution_count": 27,
   "id": "35f87eb4-de74-48eb-82e2-90897b02ca31",
   "metadata": {},
   "outputs": [
    {
     "data": {
      "text/plain": [
       "4"
      ]
     },
     "execution_count": 27,
     "metadata": {},
     "output_type": "execute_result"
    }
   ],
   "source": [
    "4&5"
   ]
  },
  {
   "cell_type": "markdown",
   "id": "4403eda6-0449-4a72-9577-ef2ae1de4a20",
   "metadata": {},
   "source": [
    "### Logical Operator"
   ]
  },
  {
   "cell_type": "markdown",
   "id": "e0bcae37-5db7-422c-a177-2cfc9ca3def4",
   "metadata": {},
   "source": [
    "\"and\" , \"or\" , \"not\" are logical opeartor"
   ]
  },
  {
   "cell_type": "code",
   "execution_count": 29,
   "id": "1e719d7d-d956-406c-b89b-69420d6bbb8b",
   "metadata": {},
   "outputs": [
    {
     "data": {
      "text/plain": [
       "True"
      ]
     },
     "execution_count": 29,
     "metadata": {},
     "output_type": "execute_result"
    }
   ],
   "source": [
    "# Logical OR\n",
    "(4<5) or (4>5)"
   ]
  },
  {
   "cell_type": "code",
   "execution_count": 30,
   "id": "cd7fab71-9185-4083-95e8-a7bc66102c24",
   "metadata": {},
   "outputs": [
    {
     "data": {
      "text/plain": [
       "False"
      ]
     },
     "execution_count": 30,
     "metadata": {},
     "output_type": "execute_result"
    }
   ],
   "source": [
    "# Logical AND\n",
    "(4<5) and (4>5)"
   ]
  },
  {
   "cell_type": "code",
   "execution_count": 31,
   "id": "ed0fc38e-54cd-496a-8cc9-90db4cafe784",
   "metadata": {},
   "outputs": [
    {
     "data": {
      "text/plain": [
       "True"
      ]
     },
     "execution_count": 31,
     "metadata": {},
     "output_type": "execute_result"
    }
   ],
   "source": [
    "# Logical AND\n",
    "(4<5) and (4<5)"
   ]
  },
  {
   "cell_type": "markdown",
   "id": "928fbde2-00cf-4608-b1a0-54db2e4c3951",
   "metadata": {},
   "source": [
    " ### Assignment Operator"
   ]
  },
  {
   "cell_type": "markdown",
   "id": "57bd80df-11cc-489c-af5b-ea1cc027e727",
   "metadata": {},
   "source": [
    "=,+=,-=,*=,/=,%=,//=,**=,&=,|=,^=,>>=,<<="
   ]
  },
  {
   "cell_type": "code",
   "execution_count": 6,
   "id": "2d2ddf18-35b5-43bc-996f-0c3538af44b7",
   "metadata": {},
   "outputs": [
    {
     "data": {
      "text/plain": [
       "20"
      ]
     },
     "execution_count": 6,
     "metadata": {},
     "output_type": "execute_result"
    }
   ],
   "source": [
    "a=20\n",
    "a    # '=' is a simple assignment operator that assigns the value 20 on the right to the variable a on the left"
   ]
  },
  {
   "cell_type": "code",
   "execution_count": 7,
   "id": "6777317e-f58b-48d7-aea6-e309b6feb6d8",
   "metadata": {},
   "outputs": [
    {
     "name": "stdout",
     "output_type": "stream",
     "text": [
      "21\n"
     ]
    }
   ],
   "source": [
    "a=a+1  # add AND\n",
    "print(a)"
   ]
  },
  {
   "cell_type": "code",
   "execution_count": 8,
   "id": "bac217f1-30c7-493b-96aa-691b9a957829",
   "metadata": {},
   "outputs": [
    {
     "data": {
      "text/plain": [
       "22"
      ]
     },
     "execution_count": 8,
     "metadata": {},
     "output_type": "execute_result"
    }
   ],
   "source": [
    "a+=1\n",
    "a"
   ]
  },
  {
   "cell_type": "code",
   "execution_count": 9,
   "id": "6c9c5f1d-c9fa-420f-bd86-0e0543287023",
   "metadata": {},
   "outputs": [
    {
     "data": {
      "text/plain": [
       "17"
      ]
     },
     "execution_count": 9,
     "metadata": {},
     "output_type": "execute_result"
    }
   ],
   "source": [
    "a-=5\n",
    "a"
   ]
  },
  {
   "cell_type": "code",
   "execution_count": null,
   "id": "533374b1-33bc-4b41-8a8d-f5c2be7483c8",
   "metadata": {},
   "outputs": [],
   "source": [
    "#Multipll AND  (*=)\n",
    "\n",
    "#Divide AND  (/=)\n",
    "\n",
    "#Modulus AND  (%=)\n",
    "\n",
    "#Floor Division  (//=)\n",
    "\n",
    "#Exponent AND  (**=)"
   ]
  },
  {
   "cell_type": "markdown",
   "id": "6b6e2419-d722-4bde-a1df-ecc2deb7c1fb",
   "metadata": {},
   "source": [
    "### Identity Operators"
   ]
  },
  {
   "cell_type": "markdown",
   "id": "9305f565-f397-4ea5-b7cc-866035dac01a",
   "metadata": {},
   "source": [
    "\"is\" and \"is not\" are the identity operators"
   ]
  },
  {
   "cell_type": "code",
   "execution_count": 10,
   "id": "53cbae37-84db-463f-8a1b-3554810e9cfa",
   "metadata": {},
   "outputs": [
    {
     "name": "stdout",
     "output_type": "stream",
     "text": [
      "True\n"
     ]
    }
   ],
   "source": [
    "a = 7\n",
    "b = 7\n",
    "print(a is b)     #is-- True if the operands are identical"
   ]
  },
  {
   "cell_type": "code",
   "execution_count": 11,
   "id": "916c745e-6a97-4aa1-a545-cd4ea3481e56",
   "metadata": {},
   "outputs": [
    {
     "name": "stdout",
     "output_type": "stream",
     "text": [
      "False\n"
     ]
    }
   ],
   "source": [
    "# We can use strings!!\n",
    "s1 = 'prabhas'\n",
    "s2 = 'PRABHAS'\n",
    "print(s1 is s2)"
   ]
  },
  {
   "cell_type": "code",
   "execution_count": 13,
   "id": "d3c90aab-d353-4140-bea5-f3b7392800d6",
   "metadata": {},
   "outputs": [
    {
     "name": "stdout",
     "output_type": "stream",
     "text": [
      "True\n"
     ]
    }
   ],
   "source": [
    "a = 7\n",
    "b = 8\n",
    "print(a is not b)   #is not-- True if the operands are not identical"
   ]
  },
  {
   "cell_type": "markdown",
   "id": "aa36d774-b5a7-4c8c-bb8b-dc5c63a3e501",
   "metadata": {},
   "source": [
    "### Membership Operator"
   ]
  },
  {
   "cell_type": "markdown",
   "id": "02b3a8b6-5d47-498f-bc34-5ccc697ca626",
   "metadata": {},
   "source": [
    "\"in\" and \"not in \" are the membership operators"
   ]
  },
  {
   "cell_type": "markdown",
   "id": "b253d7ce-7198-479e-ac54-17441e06a24f",
   "metadata": {},
   "source": [
    "They are used to test whether a value or a variable is found in a sequence(string,list,tuple,set and dictionary)."
   ]
  },
  {
   "cell_type": "code",
   "execution_count": 14,
   "id": "aa5fad1c-f537-43c7-a9e6-6d5546802966",
   "metadata": {},
   "outputs": [
    {
     "data": {
      "text/plain": [
       "True"
      ]
     },
     "execution_count": 14,
     "metadata": {},
     "output_type": "execute_result"
    }
   ],
   "source": [
    "a = 'Prabhas'\n",
    "'abh' in a "
   ]
  },
  {
   "cell_type": "code",
   "execution_count": 15,
   "id": "87c4cb0c-ffbd-4d30-ab9c-aa0f990a7fdd",
   "metadata": {},
   "outputs": [
    {
     "data": {
      "text/plain": [
       "True"
      ]
     },
     "execution_count": 15,
     "metadata": {},
     "output_type": "execute_result"
    }
   ],
   "source": [
    "lst = [1,2,3,4,5]\n",
    "1 in lst"
   ]
  },
  {
   "cell_type": "code",
   "execution_count": 16,
   "id": "523c1236-bc91-4575-b90f-9015fa37eb46",
   "metadata": {},
   "outputs": [
    {
     "data": {
      "text/plain": [
       "True"
      ]
     },
     "execution_count": 16,
     "metadata": {},
     "output_type": "execute_result"
    }
   ],
   "source": [
    "8 not in lst"
   ]
  },
  {
   "cell_type": "code",
   "execution_count": 17,
   "id": "75c54047-53cf-4d7c-808d-77b3325c49b5",
   "metadata": {},
   "outputs": [
    {
     "data": {
      "text/plain": [
       "False"
      ]
     },
     "execution_count": 17,
     "metadata": {},
     "output_type": "execute_result"
    }
   ],
   "source": [
    "5 not in lst"
   ]
  },
  {
   "cell_type": "code",
   "execution_count": null,
   "id": "af5bfd67-a3e1-41aa-830f-c7908ff9982f",
   "metadata": {},
   "outputs": [],
   "source": []
  }
 ],
 "metadata": {
  "kernelspec": {
   "display_name": "Python 3 (ipykernel)",
   "language": "python",
   "name": "python3"
  },
  "language_info": {
   "codemirror_mode": {
    "name": "ipython",
    "version": 3
   },
   "file_extension": ".py",
   "mimetype": "text/x-python",
   "name": "python",
   "nbconvert_exporter": "python",
   "pygments_lexer": "ipython3",
   "version": "3.11.7"
  }
 },
 "nbformat": 4,
 "nbformat_minor": 5
}
