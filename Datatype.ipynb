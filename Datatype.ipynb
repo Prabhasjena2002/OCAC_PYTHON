{
 "cells": [
  {
   "cell_type": "markdown",
   "id": "42c62780-d8c5-49b3-b183-e8dfa0ee34df",
   "metadata": {},
   "source": [
    "# Datatypes"
   ]
  },
  {
   "cell_type": "markdown",
   "id": "1dc8ec58-4e01-4595-b6e3-5e0944d7d9df",
   "metadata": {},
   "source": [
    "### 1.Fundamental Data Types\n",
    "      int\n",
    "      float\n",
    "      complex\n",
    "      boolean\n",
    "      string\n",
    "### 2.Advanced Data Types or Containers or Data Structure\n",
    "      range\n",
    "      list\n",
    "      tuple\n",
    "      set\n",
    "      dictionaries\n",
    "      "
   ]
  },
  {
   "cell_type": "code",
   "execution_count": 2,
   "id": "8816b960-16f3-4352-864c-fc8a44610747",
   "metadata": {},
   "outputs": [],
   "source": [
    "a=24"
   ]
  },
  {
   "cell_type": "code",
   "execution_count": 3,
   "id": "c268e55a-cb82-4009-82c2-5e88895424ad",
   "metadata": {},
   "outputs": [
    {
     "data": {
      "text/plain": [
       "int"
      ]
     },
     "execution_count": 3,
     "metadata": {},
     "output_type": "execute_result"
    }
   ],
   "source": [
    "#checking type--\n",
    "type(a)"
   ]
  },
  {
   "cell_type": "code",
   "execution_count": 5,
   "id": "81d038c5-ca7d-48ea-b4b7-5c542be4c254",
   "metadata": {},
   "outputs": [
    {
     "data": {
      "text/plain": [
       "float"
      ]
     },
     "execution_count": 5,
     "metadata": {},
     "output_type": "execute_result"
    }
   ],
   "source": [
    "a=15.44\n",
    "type(a)"
   ]
  },
  {
   "cell_type": "code",
   "execution_count": 6,
   "id": "99605f88-7163-4069-825c-6f2f9bc6a6bb",
   "metadata": {},
   "outputs": [
    {
     "name": "stdout",
     "output_type": "stream",
     "text": [
      "<class 'int'>\n",
      "<class 'float'>\n"
     ]
    }
   ],
   "source": [
    "a=12\n",
    "print(type(a))\n",
    "\n",
    "b=12.43\n",
    "print(type(b))"
   ]
  },
  {
   "cell_type": "code",
   "execution_count": 7,
   "id": "84ed7b3b-155c-4cd3-8af4-0ca8a9e7d8f1",
   "metadata": {},
   "outputs": [
    {
     "data": {
      "text/plain": [
       "57.33"
      ]
     },
     "execution_count": 7,
     "metadata": {},
     "output_type": "execute_result"
    }
   ],
   "source": [
    "a=34\n",
    "b=23.33\n",
    "a+b"
   ]
  },
  {
   "cell_type": "code",
   "execution_count": 10,
   "id": "60165a95-4787-45e1-82c2-5110773eacd6",
   "metadata": {},
   "outputs": [
    {
     "name": "stdout",
     "output_type": "stream",
     "text": [
      "10.501\n",
      "<class 'float'>\n"
     ]
    }
   ],
   "source": [
    "a=010.501\n",
    "print(a)\n",
    "print(type(a))\n"
   ]
  },
  {
   "cell_type": "code",
   "execution_count": 15,
   "id": "ac11699d-fcbc-4f9e-86fc-fa87a065262b",
   "metadata": {},
   "outputs": [
    {
     "data": {
      "text/plain": [
       "True"
      ]
     },
     "execution_count": 15,
     "metadata": {},
     "output_type": "execute_result"
    }
   ],
   "source": [
    "10.5==10.50"
   ]
  },
  {
   "cell_type": "code",
   "execution_count": 16,
   "id": "eb9c6e46-12d2-492e-95fa-954992f4a71f",
   "metadata": {},
   "outputs": [
    {
     "name": "stdout",
     "output_type": "stream",
     "text": [
      "5\n"
     ]
    }
   ],
   "source": [
    "print(5)"
   ]
  },
  {
   "cell_type": "code",
   "execution_count": 19,
   "id": "576b7632-f87a-4fe7-94ca-029dd83310fb",
   "metadata": {},
   "outputs": [
    {
     "name": "stdout",
     "output_type": "stream",
     "text": [
      "13\n"
     ]
    }
   ],
   "source": [
    "print(0o0015)"
   ]
  },
  {
   "cell_type": "code",
   "execution_count": 23,
   "id": "4dd7f246-aa2e-4327-a2a4-ac434dfb75d3",
   "metadata": {},
   "outputs": [
    {
     "name": "stdout",
     "output_type": "stream",
     "text": [
      "5.0\n"
     ]
    }
   ],
   "source": [
    "print(5.0)"
   ]
  },
  {
   "cell_type": "code",
   "execution_count": 24,
   "id": "8708cb63-8c4e-4834-8e8b-5529208b631e",
   "metadata": {},
   "outputs": [
    {
     "name": "stdout",
     "output_type": "stream",
     "text": [
      "5.0\n"
     ]
    }
   ],
   "source": [
    "print(5.00)"
   ]
  },
  {
   "cell_type": "code",
   "execution_count": 21,
   "id": "f5090ff4-8b23-4d9e-993c-7365d1367208",
   "metadata": {},
   "outputs": [
    {
     "name": "stdout",
     "output_type": "stream",
     "text": [
      "15.15\n"
     ]
    }
   ],
   "source": [
    "print(0015.1500)"
   ]
  },
  {
   "cell_type": "code",
   "execution_count": 25,
   "id": "5eda4fba-080c-41bd-9f15-48c40528e70e",
   "metadata": {},
   "outputs": [
    {
     "ename": "TypeError",
     "evalue": "can only concatenate str (not \"float\") to str",
     "output_type": "error",
     "traceback": [
      "\u001b[1;31m---------------------------------------------------------------------------\u001b[0m",
      "\u001b[1;31mTypeError\u001b[0m                                 Traceback (most recent call last)",
      "Cell \u001b[1;32mIn[25], line 3\u001b[0m\n\u001b[0;32m      1\u001b[0m a\u001b[38;5;241m=\u001b[39m\u001b[38;5;124m'\u001b[39m\u001b[38;5;124m5\u001b[39m\u001b[38;5;124m'\u001b[39m\n\u001b[0;32m      2\u001b[0m b\u001b[38;5;241m=\u001b[39m\u001b[38;5;241m5.0\u001b[39m\n\u001b[1;32m----> 3\u001b[0m c\u001b[38;5;241m=\u001b[39ma\u001b[38;5;241m+\u001b[39mb\n\u001b[0;32m      4\u001b[0m \u001b[38;5;28mprint\u001b[39m(c)\n",
      "\u001b[1;31mTypeError\u001b[0m: can only concatenate str (not \"float\") to str"
     ]
    }
   ],
   "source": [
    "a='5'\n",
    "b=5.0\n",
    "c=a+b\n",
    "print(c)"
   ]
  },
  {
   "cell_type": "code",
   "execution_count": 29,
   "id": "80bf0073-c857-4a17-bc01-bac1b920f459",
   "metadata": {},
   "outputs": [
    {
     "name": "stdout",
     "output_type": "stream",
     "text": [
      "0.0\n"
     ]
    }
   ],
   "source": [
    "b=3.9\n",
    "c=False\n",
    "d=b*c\n",
    "print(d)"
   ]
  },
  {
   "cell_type": "code",
   "execution_count": 30,
   "id": "7ba7f6ae-9e08-4b63-8e7b-98c1ea5524ec",
   "metadata": {},
   "outputs": [
    {
     "data": {
      "text/plain": [
       "complex"
      ]
     },
     "execution_count": 30,
     "metadata": {},
     "output_type": "execute_result"
    }
   ],
   "source": [
    "x=20+10j\n",
    "type(x)"
   ]
  },
  {
   "cell_type": "code",
   "execution_count": 31,
   "id": "ebecf83e-f5d8-4313-adf2-c05530792299",
   "metadata": {},
   "outputs": [
    {
     "data": {
      "text/plain": [
       "20.0"
      ]
     },
     "execution_count": 31,
     "metadata": {},
     "output_type": "execute_result"
    }
   ],
   "source": [
    "x.real"
   ]
  },
  {
   "cell_type": "code",
   "execution_count": 32,
   "id": "64d109b3-6443-4fd8-8e04-a4e304b8d8c8",
   "metadata": {},
   "outputs": [
    {
     "data": {
      "text/plain": [
       "10.0"
      ]
     },
     "execution_count": 32,
     "metadata": {},
     "output_type": "execute_result"
    }
   ],
   "source": [
    "x.imag"
   ]
  },
  {
   "cell_type": "code",
   "execution_count": 34,
   "id": "f9c3e994-19e8-4cad-a482-f2606d2d5394",
   "metadata": {},
   "outputs": [
    {
     "ename": "SyntaxError",
     "evalue": "invalid syntax (3774048084.py, line 1)",
     "output_type": "error",
     "traceback": [
      "\u001b[1;36m  Cell \u001b[1;32mIn[34], line 1\u001b[1;36m\u001b[0m\n\u001b[1;33m    x=20+(-15)j\u001b[0m\n\u001b[1;37m              ^\u001b[0m\n\u001b[1;31mSyntaxError\u001b[0m\u001b[1;31m:\u001b[0m invalid syntax\n"
     ]
    }
   ],
   "source": [
    "x=20+(-15)j\n",
    "type(x)"
   ]
  },
  {
   "cell_type": "code",
   "execution_count": 42,
   "id": "896152e5-2327-4a71-89d2-7d7b58522989",
   "metadata": {},
   "outputs": [
    {
     "data": {
      "text/plain": [
       "(20-15j)"
      ]
     },
     "execution_count": 42,
     "metadata": {},
     "output_type": "execute_result"
    }
   ],
   "source": [
    "20+-15j"
   ]
  },
  {
   "cell_type": "code",
   "execution_count": 44,
   "id": "25d2ad3c-b6ce-49ef-b90c-2e639888956b",
   "metadata": {},
   "outputs": [
    {
     "data": {
      "text/plain": [
       "505"
      ]
     },
     "execution_count": 44,
     "metadata": {},
     "output_type": "execute_result"
    }
   ],
   "source": [
    "a=\"505\"\n",
    "int(a)"
   ]
  },
  {
   "cell_type": "code",
   "execution_count": 45,
   "id": "9d422d17-3aaf-47a2-937f-295ac387f3be",
   "metadata": {},
   "outputs": [
    {
     "data": {
      "text/plain": [
       "505.0"
      ]
     },
     "execution_count": 45,
     "metadata": {},
     "output_type": "execute_result"
    }
   ],
   "source": [
    "float(a)"
   ]
  },
  {
   "cell_type": "code",
   "execution_count": 46,
   "id": "aace6946-a6df-4d78-910b-63abf0b859fa",
   "metadata": {},
   "outputs": [
    {
     "ename": "ValueError",
     "evalue": "invalid literal for int() with base 10: '505.5'",
     "output_type": "error",
     "traceback": [
      "\u001b[1;31m---------------------------------------------------------------------------\u001b[0m",
      "\u001b[1;31mValueError\u001b[0m                                Traceback (most recent call last)",
      "Cell \u001b[1;32mIn[46], line 2\u001b[0m\n\u001b[0;32m      1\u001b[0m a\u001b[38;5;241m=\u001b[39m\u001b[38;5;124m\"\u001b[39m\u001b[38;5;124m505.5\u001b[39m\u001b[38;5;124m\"\u001b[39m\n\u001b[1;32m----> 2\u001b[0m \u001b[38;5;28mint\u001b[39m(a)\n",
      "\u001b[1;31mValueError\u001b[0m: invalid literal for int() with base 10: '505.5'"
     ]
    }
   ],
   "source": [
    "a=\"505.5\"\n",
    "int(a)"
   ]
  },
  {
   "cell_type": "code",
   "execution_count": 47,
   "id": "1c9ee33a-b158-4df9-91f8-cd65e1bb9d04",
   "metadata": {},
   "outputs": [
    {
     "data": {
      "text/plain": [
       "505.5"
      ]
     },
     "execution_count": 47,
     "metadata": {},
     "output_type": "execute_result"
    }
   ],
   "source": [
    "float(a)"
   ]
  },
  {
   "cell_type": "code",
   "execution_count": 48,
   "id": "025105a4-8128-4815-a307-bca67f127c85",
   "metadata": {},
   "outputs": [
    {
     "data": {
      "text/plain": [
       "505"
      ]
     },
     "execution_count": 48,
     "metadata": {},
     "output_type": "execute_result"
    }
   ],
   "source": [
    "int(float(a))"
   ]
  },
  {
   "cell_type": "code",
   "execution_count": 56,
   "id": "8d97e36e-cb66-4371-af4f-b57646ccf687",
   "metadata": {},
   "outputs": [
    {
     "name": "stdin",
     "output_type": "stream",
     "text": [
      "Enter a decimal number 77.7\n"
     ]
    },
    {
     "ename": "ValueError",
     "evalue": "invalid literal for int() with base 10: '77.7'",
     "output_type": "error",
     "traceback": [
      "\u001b[1;31m---------------------------------------------------------------------------\u001b[0m",
      "\u001b[1;31mValueError\u001b[0m                                Traceback (most recent call last)",
      "Cell \u001b[1;32mIn[56], line 2\u001b[0m\n\u001b[0;32m      1\u001b[0m a\u001b[38;5;241m=\u001b[39m\u001b[38;5;28minput\u001b[39m(\u001b[38;5;124m\"\u001b[39m\u001b[38;5;124mEnter a decimal number\u001b[39m\u001b[38;5;124m\"\u001b[39m)\n\u001b[1;32m----> 2\u001b[0m \u001b[38;5;28mint\u001b[39m(a)\n",
      "\u001b[1;31mValueError\u001b[0m: invalid literal for int() with base 10: '77.7'"
     ]
    }
   ],
   "source": [
    "a=input(\"Enter a decimal number\")\n",
    "int(a)"
   ]
  },
  {
   "cell_type": "code",
   "execution_count": 57,
   "id": "9015b984-9905-4afe-af68-df3beb7a981b",
   "metadata": {},
   "outputs": [
    {
     "data": {
      "text/plain": [
       "77.7"
      ]
     },
     "execution_count": 57,
     "metadata": {},
     "output_type": "execute_result"
    }
   ],
   "source": [
    "float(a)"
   ]
  },
  {
   "cell_type": "code",
   "execution_count": 59,
   "id": "ff5cbe71-2988-4941-b445-0ff12e52ba51",
   "metadata": {},
   "outputs": [
    {
     "name": "stdout",
     "output_type": "stream",
     "text": [
      "Navins \"laptop\"\n"
     ]
    }
   ],
   "source": [
    "print('Navins \"laptop\"')"
   ]
  },
  {
   "cell_type": "code",
   "execution_count": 61,
   "id": "38fe049e-0c95-418a-9041-cf72b860b47a",
   "metadata": {},
   "outputs": [
    {
     "ename": "SyntaxError",
     "evalue": "invalid syntax. Perhaps you forgot a comma? (2803913381.py, line 1)",
     "output_type": "error",
     "traceback": [
      "\u001b[1;36m  Cell \u001b[1;32mIn[61], line 1\u001b[1;36m\u001b[0m\n\u001b[1;33m    print('Navin's \"Laptop\")\u001b[0m\n\u001b[1;37m          ^\u001b[0m\n\u001b[1;31mSyntaxError\u001b[0m\u001b[1;31m:\u001b[0m invalid syntax. Perhaps you forgot a comma?\n"
     ]
    }
   ],
   "source": [
    "print('Navin's \"Laptop\"')"
   ]
  },
  {
   "cell_type": "code",
   "execution_count": 65,
   "id": "668f172f-b8a9-459c-b4ab-2cbea3cc6dad",
   "metadata": {},
   "outputs": [
    {
     "ename": "SyntaxError",
     "evalue": "invalid syntax. Perhaps you forgot a comma? (3577970749.py, line 1)",
     "output_type": "error",
     "traceback": [
      "\u001b[1;36m  Cell \u001b[1;32mIn[65], line 1\u001b[1;36m\u001b[0m\n\u001b[1;33m    print(\"Navin's \"Laptop\"\")\u001b[0m\n\u001b[1;37m          ^\u001b[0m\n\u001b[1;31mSyntaxError\u001b[0m\u001b[1;31m:\u001b[0m invalid syntax. Perhaps you forgot a comma?\n"
     ]
    }
   ],
   "source": [
    "print(\"Navin's \"Laptop\"\")"
   ]
  },
  {
   "cell_type": "code",
   "execution_count": 66,
   "id": "7f16a1c6-57f1-4d49-a4b8-2ca6bd2bebdc",
   "metadata": {},
   "outputs": [
    {
     "name": "stdout",
     "output_type": "stream",
     "text": [
      "Navin's \"Laptop\"\n"
     ]
    }
   ],
   "source": [
    "print('Navin\\'s \"Laptop\"')"
   ]
  },
  {
   "cell_type": "code",
   "execution_count": 67,
   "id": "b687934e-c5b1-44e9-85f9-f28e8fee7d8b",
   "metadata": {},
   "outputs": [
    {
     "ename": "SyntaxError",
     "evalue": "invalid syntax. Perhaps you forgot a comma? (1690448386.py, line 1)",
     "output_type": "error",
     "traceback": [
      "\u001b[1;36m  Cell \u001b[1;32mIn[67], line 1\u001b[1;36m\u001b[0m\n\u001b[1;33m    print(\"Navin\\'s \"Laptop\"\")\u001b[0m\n\u001b[1;37m          ^\u001b[0m\n\u001b[1;31mSyntaxError\u001b[0m\u001b[1;31m:\u001b[0m invalid syntax. Perhaps you forgot a comma?\n"
     ]
    }
   ],
   "source": [
    "print(\"Navin\\'s \"Laptop\"\")"
   ]
  },
  {
   "cell_type": "code",
   "execution_count": 68,
   "id": "6e1cbc1a-1cc8-45b0-af9d-ec79dc61d619",
   "metadata": {},
   "outputs": [
    {
     "data": {
      "text/plain": [
       "'prabhasprabhasprabhasprabhasprabhas'"
      ]
     },
     "execution_count": 68,
     "metadata": {},
     "output_type": "execute_result"
    }
   ],
   "source": [
    "# repeat string n times\n",
    "\"prabhas\"*5"
   ]
  },
  {
   "cell_type": "code",
   "execution_count": 69,
   "id": "08df48e8-e654-458b-bd31-e5efe1aedaae",
   "metadata": {},
   "outputs": [],
   "source": [
    "user=\"prabhas\"\n",
    "lines=69"
   ]
  },
  {
   "cell_type": "code",
   "execution_count": 70,
   "id": "976d38c9-d10f-43e5-974c-12ea7d5a417c",
   "metadata": {},
   "outputs": [
    {
     "name": "stdout",
     "output_type": "stream",
     "text": [
      "Congratulations, prabhas ! You just wrote 69 lines of code\n"
     ]
    }
   ],
   "source": [
    "print(\"Congratulations,\",user,\"! You just wrote\",lines,\"lines of code\")"
   ]
  },
  {
   "cell_type": "code",
   "execution_count": 73,
   "id": "ef1e142a-abd5-43b7-9496-47a0537a7b91",
   "metadata": {},
   "outputs": [
    {
     "name": "stdout",
     "output_type": "stream",
     "text": [
      "Congratulations prabhas! You just wrote 69 lines of code\n"
     ]
    }
   ],
   "source": [
    "print(\"Congratulations \"+user+\"! You just wrote \"+str(lines)+\" lines of code\")"
   ]
  },
  {
   "cell_type": "code",
   "execution_count": 74,
   "id": "28cebe5c-b218-40d2-b46a-8c9d2aeb94d5",
   "metadata": {},
   "outputs": [
    {
     "data": {
      "text/plain": [
       "19"
      ]
     },
     "execution_count": 74,
     "metadata": {},
     "output_type": "execute_result"
    }
   ],
   "source": [
    "d='This is interesting'\n",
    "len(d)"
   ]
  },
  {
   "cell_type": "code",
   "execution_count": null,
   "id": "385e71f3-539a-4e2f-9642-a0edf622db06",
   "metadata": {},
   "outputs": [],
   "source": [
    "#"
   ]
  },
  {
   "cell_type": "code",
   "execution_count": 109,
   "id": "b85bebf0-3d85-403a-a04a-b1aef031e420",
   "metadata": {},
   "outputs": [
    {
     "name": "stdout",
     "output_type": "stream",
     "text": [
      "['prabhasjena', 'gmail.com']\n"
     ]
    }
   ],
   "source": [
    "a='prabhasjena@gmail.com'\n",
    "b=a.split('@')\n",
    "print(b)"
   ]
  },
  {
   "cell_type": "code",
   "execution_count": 112,
   "id": "b0595fbe-6ded-483d-b4a1-283b495fee65",
   "metadata": {},
   "outputs": [
    {
     "name": "stdout",
     "output_type": "stream",
     "text": [
      "Your user name is -  prabhasjena\n"
     ]
    }
   ],
   "source": [
    "print(\"Your user name is - \",b[0])"
   ]
  },
  {
   "cell_type": "code",
   "execution_count": 113,
   "id": "82217bb1-90e7-448a-8268-6944cdf53e28",
   "metadata": {},
   "outputs": [
    {
     "name": "stdout",
     "output_type": "stream",
     "text": [
      "Your domain name is -  gmail.com\n"
     ]
    }
   ],
   "source": [
    "print(\"Your domain name is - \",b[1])"
   ]
  }
 ],
 "metadata": {
  "kernelspec": {
   "display_name": "Python 3 (ipykernel)",
   "language": "python",
   "name": "python3"
  },
  "language_info": {
   "codemirror_mode": {
    "name": "ipython",
    "version": 3
   },
   "file_extension": ".py",
   "mimetype": "text/x-python",
   "name": "python",
   "nbconvert_exporter": "python",
   "pygments_lexer": "ipython3",
   "version": "3.11.7"
  }
 },
 "nbformat": 4,
 "nbformat_minor": 5
}
